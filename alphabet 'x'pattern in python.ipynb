{
 "cells": [
  {
   "cell_type": "code",
   "execution_count": 24,
   "id": "9cf2be63",
   "metadata": {},
   "outputs": [
    {
     "name": "stdout",
     "output_type": "stream",
     "text": [
      "x    x \n",
      " x  x  \n",
      "  x   \n",
      " x  x  \n",
      "x    x \n"
     ]
    }
   ],
   "source": [
    "i  = 0\n",
    "j = 4\n",
    "for row in range(5):\n",
    "    for col in range(5):\n",
    "        if row == i and col  == j:\n",
    "            print(\"x\",end=\" \")\n",
    "            i = i+1\n",
    "            j = j-1\n",
    "        elif row == col:\n",
    "            print(\"x\",end=\" \")\n",
    "        else:\n",
    "            print(end=\" \")\n",
    "    print()\n",
    "    "
   ]
  },
  {
   "cell_type": "code",
   "execution_count": null,
   "id": "c9a96bee",
   "metadata": {},
   "outputs": [],
   "source": []
  }
 ],
 "metadata": {
  "kernelspec": {
   "display_name": "Python 3 (ipykernel)",
   "language": "python",
   "name": "python3"
  },
  "language_info": {
   "codemirror_mode": {
    "name": "ipython",
    "version": 3
   },
   "file_extension": ".py",
   "mimetype": "text/x-python",
   "name": "python",
   "nbconvert_exporter": "python",
   "pygments_lexer": "ipython3",
   "version": "3.9.7"
  }
 },
 "nbformat": 4,
 "nbformat_minor": 5
}
